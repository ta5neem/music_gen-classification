{
 "cells": [
  {
   "cell_type": "code",
   "execution_count": 51,
   "metadata": {
    "id": "55J_YRTJ42nu"
   },
   "outputs": [],
   "source": [
    "import pandas as pd\n",
    "import numpy as np\n",
    "import matplotlib.pyplot as plt            # library for visualization\n",
    "import matplotlib\n",
    "# from wordcloud import WordCloud\n",
    "%matplotlib inline\n",
    "import seaborn as sns \n",
    "import os,joblib\n",
    "# ,missingno\n",
    "from sklearn.metrics import mean_squared_error, r2_score\n",
    "from sklearn.model_selection import train_test_split, cross_val_score, cross_val_predict\n",
    "from sklearn.impute import SimpleImputer \n",
    "from sklearn.preprocessing import StandardScaler,LabelEncoder,OneHotEncoder\n",
    "from sklearn.pipeline import Pipeline,FeatureUnion\n",
    "from sklearn.model_selection import GridSearchCV\n",
    "from sklearn.linear_model import LinearRegression,SGDRegressor,LogisticRegression, Ridge, Lasso, ElasticNet\n",
    "from sklearn.ensemble import RandomForestRegressor\n",
    "from sklearn.metrics import r2_score\n",
    "from sklearn.neighbors import KNeighborsRegressor\n",
    "from sklearn.ensemble import RandomForestRegressor, VotingRegressor\n",
    "from sklearn.linear_model import SGDClassifier\n",
    "from sklearn.metrics import accuracy_score\n",
    "from sklearn.ensemble import RandomForestClassifier, ExtraTreesClassifier\n",
    "from sklearn.preprocessing import MinMaxScaler, Normalizer\n",
    "\n",
    "from sklearn.tree import DecisionTreeClassifier\n",
    "from sklearn.feature_extraction.text import CountVectorizer\n",
    "\n"
   ]
  },
  {
   "cell_type": "code",
   "execution_count": null,
   "metadata": {},
   "outputs": [],
   "source": []
  },
  {
   "cell_type": "code",
   "execution_count": 52,
   "metadata": {
    "colab": {
     "base_uri": "https://localhost:8080/",
     "height": 904
    },
    "id": "d8YjPaiF474Z",
    "outputId": "c20d25cc-f37e-4b22-aea8-8f007003ccf5"
   },
   "outputs": [
    {
     "data": {
      "text/html": [
       "<div>\n",
       "<style scoped>\n",
       "    .dataframe tbody tr th:only-of-type {\n",
       "        vertical-align: middle;\n",
       "    }\n",
       "\n",
       "    .dataframe tbody tr th {\n",
       "        vertical-align: top;\n",
       "    }\n",
       "\n",
       "    .dataframe thead th {\n",
       "        text-align: right;\n",
       "    }\n",
       "</style>\n",
       "<table border=\"1\" class=\"dataframe\">\n",
       "  <thead>\n",
       "    <tr style=\"text-align: right;\">\n",
       "      <th></th>\n",
       "      <th>id</th>\n",
       "      <th>Artist Name</th>\n",
       "      <th>Track Name</th>\n",
       "      <th>Popularity</th>\n",
       "      <th>danceability</th>\n",
       "      <th>energy</th>\n",
       "      <th>key</th>\n",
       "      <th>loudness</th>\n",
       "      <th>mode</th>\n",
       "      <th>speechiness</th>\n",
       "      <th>acousticness</th>\n",
       "      <th>instrumentalness</th>\n",
       "      <th>liveness</th>\n",
       "      <th>valence</th>\n",
       "      <th>tempo</th>\n",
       "      <th>duration_in min/ms</th>\n",
       "      <th>time_signature</th>\n",
       "      <th>Class</th>\n",
       "    </tr>\n",
       "  </thead>\n",
       "  <tbody>\n",
       "    <tr>\n",
       "      <th>0</th>\n",
       "      <td>0</td>\n",
       "      <td>Lata Mangeshkar, Hariharan</td>\n",
       "      <td>Likha Hai Yeh</td>\n",
       "      <td>23.0</td>\n",
       "      <td>0.370</td>\n",
       "      <td>0.6700</td>\n",
       "      <td>7.0</td>\n",
       "      <td>-11.007</td>\n",
       "      <td>0</td>\n",
       "      <td>0.0445</td>\n",
       "      <td>0.809000</td>\n",
       "      <td>0.000006</td>\n",
       "      <td>0.2360</td>\n",
       "      <td>0.8020</td>\n",
       "      <td>177.164</td>\n",
       "      <td>5.209333</td>\n",
       "      <td>3</td>\n",
       "      <td>3</td>\n",
       "    </tr>\n",
       "    <tr>\n",
       "      <th>1</th>\n",
       "      <td>1</td>\n",
       "      <td>Kalan.FrFr</td>\n",
       "      <td>No Love ft. Mozzy &amp; Cypress Moreno</td>\n",
       "      <td>45.0</td>\n",
       "      <td>0.659</td>\n",
       "      <td>0.6390</td>\n",
       "      <td>6.0</td>\n",
       "      <td>-8.138</td>\n",
       "      <td>1</td>\n",
       "      <td>0.3880</td>\n",
       "      <td>0.416000</td>\n",
       "      <td>NaN</td>\n",
       "      <td>0.1160</td>\n",
       "      <td>0.6880</td>\n",
       "      <td>99.517</td>\n",
       "      <td>206602.000000</td>\n",
       "      <td>4</td>\n",
       "      <td>5</td>\n",
       "    </tr>\n",
       "    <tr>\n",
       "      <th>2</th>\n",
       "      <td>2</td>\n",
       "      <td>The Cure</td>\n",
       "      <td>Play For Today</td>\n",
       "      <td>51.0</td>\n",
       "      <td>0.458</td>\n",
       "      <td>0.7310</td>\n",
       "      <td>11.0</td>\n",
       "      <td>-12.049</td>\n",
       "      <td>0</td>\n",
       "      <td>0.1450</td>\n",
       "      <td>0.048700</td>\n",
       "      <td>0.021500</td>\n",
       "      <td>0.1160</td>\n",
       "      <td>0.7840</td>\n",
       "      <td>80.425</td>\n",
       "      <td>218960.000000</td>\n",
       "      <td>4</td>\n",
       "      <td>6</td>\n",
       "    </tr>\n",
       "    <tr>\n",
       "      <th>3</th>\n",
       "      <td>3</td>\n",
       "      <td>Miguel Poveda</td>\n",
       "      <td>Coplas Del Querer</td>\n",
       "      <td>40.0</td>\n",
       "      <td>0.508</td>\n",
       "      <td>0.2870</td>\n",
       "      <td>5.0</td>\n",
       "      <td>-8.898</td>\n",
       "      <td>0</td>\n",
       "      <td>0.0481</td>\n",
       "      <td>0.834000</td>\n",
       "      <td>NaN</td>\n",
       "      <td>0.0963</td>\n",
       "      <td>0.3240</td>\n",
       "      <td>96.139</td>\n",
       "      <td>332467.000000</td>\n",
       "      <td>3</td>\n",
       "      <td>9</td>\n",
       "    </tr>\n",
       "    <tr>\n",
       "      <th>4</th>\n",
       "      <td>4</td>\n",
       "      <td>Leif Vollebekk</td>\n",
       "      <td>Long Blue Light</td>\n",
       "      <td>63.0</td>\n",
       "      <td>0.552</td>\n",
       "      <td>0.4850</td>\n",
       "      <td>9.0</td>\n",
       "      <td>-9.111</td>\n",
       "      <td>1</td>\n",
       "      <td>0.0332</td>\n",
       "      <td>0.517000</td>\n",
       "      <td>0.106000</td>\n",
       "      <td>0.1640</td>\n",
       "      <td>0.5100</td>\n",
       "      <td>71.548</td>\n",
       "      <td>200173.000000</td>\n",
       "      <td>4</td>\n",
       "      <td>1</td>\n",
       "    </tr>\n",
       "    <tr>\n",
       "      <th>...</th>\n",
       "      <td>...</td>\n",
       "      <td>...</td>\n",
       "      <td>...</td>\n",
       "      <td>...</td>\n",
       "      <td>...</td>\n",
       "      <td>...</td>\n",
       "      <td>...</td>\n",
       "      <td>...</td>\n",
       "      <td>...</td>\n",
       "      <td>...</td>\n",
       "      <td>...</td>\n",
       "      <td>...</td>\n",
       "      <td>...</td>\n",
       "      <td>...</td>\n",
       "      <td>...</td>\n",
       "      <td>...</td>\n",
       "      <td>...</td>\n",
       "      <td>...</td>\n",
       "    </tr>\n",
       "    <tr>\n",
       "      <th>14291</th>\n",
       "      <td>14291</td>\n",
       "      <td>AC/DC</td>\n",
       "      <td>For Those About to Rock (We Salute You)</td>\n",
       "      <td>65.0</td>\n",
       "      <td>0.370</td>\n",
       "      <td>0.9190</td>\n",
       "      <td>4.0</td>\n",
       "      <td>-5.721</td>\n",
       "      <td>1</td>\n",
       "      <td>0.1020</td>\n",
       "      <td>0.000376</td>\n",
       "      <td>0.419000</td>\n",
       "      <td>0.4900</td>\n",
       "      <td>0.4710</td>\n",
       "      <td>134.021</td>\n",
       "      <td>344240.000000</td>\n",
       "      <td>4</td>\n",
       "      <td>10</td>\n",
       "    </tr>\n",
       "    <tr>\n",
       "      <th>14292</th>\n",
       "      <td>14292</td>\n",
       "      <td>Claude Debussy, Julian Lloyd Webber, Royal Phi...</td>\n",
       "      <td>Rêverie, L. 68</td>\n",
       "      <td>52.0</td>\n",
       "      <td>0.135</td>\n",
       "      <td>0.0428</td>\n",
       "      <td>5.0</td>\n",
       "      <td>-26.085</td>\n",
       "      <td>1</td>\n",
       "      <td>0.0483</td>\n",
       "      <td>0.988000</td>\n",
       "      <td>0.924000</td>\n",
       "      <td>0.1340</td>\n",
       "      <td>0.0394</td>\n",
       "      <td>63.831</td>\n",
       "      <td>4.000000</td>\n",
       "      <td>4</td>\n",
       "      <td>7</td>\n",
       "    </tr>\n",
       "    <tr>\n",
       "      <th>14293</th>\n",
       "      <td>14293</td>\n",
       "      <td>Diddy</td>\n",
       "      <td>Diddy (feat. The Neptunes)</td>\n",
       "      <td>47.0</td>\n",
       "      <td>0.797</td>\n",
       "      <td>0.8470</td>\n",
       "      <td>6.0</td>\n",
       "      <td>-1.790</td>\n",
       "      <td>0</td>\n",
       "      <td>0.2370</td>\n",
       "      <td>0.384000</td>\n",
       "      <td>0.000388</td>\n",
       "      <td>0.0566</td>\n",
       "      <td>0.9620</td>\n",
       "      <td>100.178</td>\n",
       "      <td>234773.000000</td>\n",
       "      <td>4</td>\n",
       "      <td>5</td>\n",
       "    </tr>\n",
       "    <tr>\n",
       "      <th>14294</th>\n",
       "      <td>14294</td>\n",
       "      <td>Ehud Banai</td>\n",
       "      <td>◊ñ◊≥◊ê◊ü ◊ñ◊≥◊ê◊ß ◊û◊ï◊ü ◊ê◊û◊ô</td>\n",
       "      <td>15.0</td>\n",
       "      <td>0.332</td>\n",
       "      <td>0.6220</td>\n",
       "      <td>4.0</td>\n",
       "      <td>-7.538</td>\n",
       "      <td>0</td>\n",
       "      <td>0.0357</td>\n",
       "      <td>0.481000</td>\n",
       "      <td>0.000335</td>\n",
       "      <td>0.1090</td>\n",
       "      <td>0.2420</td>\n",
       "      <td>179.756</td>\n",
       "      <td>260758.000000</td>\n",
       "      <td>3</td>\n",
       "      <td>10</td>\n",
       "    </tr>\n",
       "    <tr>\n",
       "      <th>14295</th>\n",
       "      <td>14295</td>\n",
       "      <td>Aquila Young</td>\n",
       "      <td>Vagabond</td>\n",
       "      <td>32.0</td>\n",
       "      <td>0.623</td>\n",
       "      <td>0.8450</td>\n",
       "      <td>8.0</td>\n",
       "      <td>-7.485</td>\n",
       "      <td>0</td>\n",
       "      <td>0.0727</td>\n",
       "      <td>0.001140</td>\n",
       "      <td>0.005020</td>\n",
       "      <td>0.1260</td>\n",
       "      <td>0.5390</td>\n",
       "      <td>117.968</td>\n",
       "      <td>219193.000000</td>\n",
       "      <td>4</td>\n",
       "      <td>2</td>\n",
       "    </tr>\n",
       "  </tbody>\n",
       "</table>\n",
       "<p>14296 rows × 18 columns</p>\n",
       "</div>"
      ],
      "text/plain": [
       "          id                                        Artist Name  \\\n",
       "0          0                         Lata Mangeshkar, Hariharan   \n",
       "1          1                                         Kalan.FrFr   \n",
       "2          2                                           The Cure   \n",
       "3          3                                      Miguel Poveda   \n",
       "4          4                                     Leif Vollebekk   \n",
       "...      ...                                                ...   \n",
       "14291  14291                                              AC/DC   \n",
       "14292  14292  Claude Debussy, Julian Lloyd Webber, Royal Phi...   \n",
       "14293  14293                                              Diddy   \n",
       "14294  14294                                         Ehud Banai   \n",
       "14295  14295                                       Aquila Young   \n",
       "\n",
       "                                    Track Name  Popularity  danceability  \\\n",
       "0                                Likha Hai Yeh        23.0         0.370   \n",
       "1           No Love ft. Mozzy & Cypress Moreno        45.0         0.659   \n",
       "2                               Play For Today        51.0         0.458   \n",
       "3                            Coplas Del Querer        40.0         0.508   \n",
       "4                              Long Blue Light        63.0         0.552   \n",
       "...                                        ...         ...           ...   \n",
       "14291  For Those About to Rock (We Salute You)        65.0         0.370   \n",
       "14292                           Rêverie, L. 68        52.0         0.135   \n",
       "14293               Diddy (feat. The Neptunes)        47.0         0.797   \n",
       "14294          ◊ñ◊≥◊ê◊ü ◊ñ◊≥◊ê◊ß ◊û◊ï◊ü ◊ê◊û◊ô        15.0         0.332   \n",
       "14295                                 Vagabond        32.0         0.623   \n",
       "\n",
       "       energy   key  loudness  mode  speechiness  acousticness  \\\n",
       "0      0.6700   7.0   -11.007     0       0.0445      0.809000   \n",
       "1      0.6390   6.0    -8.138     1       0.3880      0.416000   \n",
       "2      0.7310  11.0   -12.049     0       0.1450      0.048700   \n",
       "3      0.2870   5.0    -8.898     0       0.0481      0.834000   \n",
       "4      0.4850   9.0    -9.111     1       0.0332      0.517000   \n",
       "...       ...   ...       ...   ...          ...           ...   \n",
       "14291  0.9190   4.0    -5.721     1       0.1020      0.000376   \n",
       "14292  0.0428   5.0   -26.085     1       0.0483      0.988000   \n",
       "14293  0.8470   6.0    -1.790     0       0.2370      0.384000   \n",
       "14294  0.6220   4.0    -7.538     0       0.0357      0.481000   \n",
       "14295  0.8450   8.0    -7.485     0       0.0727      0.001140   \n",
       "\n",
       "       instrumentalness  liveness  valence    tempo  duration_in min/ms  \\\n",
       "0              0.000006    0.2360   0.8020  177.164            5.209333   \n",
       "1                   NaN    0.1160   0.6880   99.517       206602.000000   \n",
       "2              0.021500    0.1160   0.7840   80.425       218960.000000   \n",
       "3                   NaN    0.0963   0.3240   96.139       332467.000000   \n",
       "4              0.106000    0.1640   0.5100   71.548       200173.000000   \n",
       "...                 ...       ...      ...      ...                 ...   \n",
       "14291          0.419000    0.4900   0.4710  134.021       344240.000000   \n",
       "14292          0.924000    0.1340   0.0394   63.831            4.000000   \n",
       "14293          0.000388    0.0566   0.9620  100.178       234773.000000   \n",
       "14294          0.000335    0.1090   0.2420  179.756       260758.000000   \n",
       "14295          0.005020    0.1260   0.5390  117.968       219193.000000   \n",
       "\n",
       "       time_signature  Class  \n",
       "0                   3      3  \n",
       "1                   4      5  \n",
       "2                   4      6  \n",
       "3                   3      9  \n",
       "4                   4      1  \n",
       "...               ...    ...  \n",
       "14291               4     10  \n",
       "14292               4      7  \n",
       "14293               4      5  \n",
       "14294               3     10  \n",
       "14295               4      2  \n",
       "\n",
       "[14296 rows x 18 columns]"
      ]
     },
     "execution_count": 52,
     "metadata": {},
     "output_type": "execute_result"
    }
   ],
   "source": [
    "data = pd.read_csv(r\"D:\\New folder\\Desktop\\train.csv\")\n",
    "data.head(-100)"
   ]
  },
  {
   "cell_type": "code",
   "execution_count": 53,
   "metadata": {},
   "outputs": [
    {
     "data": {
      "text/plain": [
       "<AxesSubplot:>"
      ]
     },
     "execution_count": 53,
     "metadata": {},
     "output_type": "execute_result"
    },
    {
     "data": {
      "image/png": "[encoded data removed]",
      "text/plain": [
       "<Figure size 1152x432 with 2 Axes>"
      ]
     },
     "metadata": {
      "needs_background": "light"
     },
     "output_type": "display_data"
    }
   ],
   "source": [
    "df_cont = data.select_dtypes([int,float]) \n",
    "\n",
    "plt.figure(figsize=(16, 6))\n",
    "sns.heatmap(data = df_cont.corr(), vmin = -1, vmax = 1, annot = True) "
   ]
  },
  {
   "cell_type": "code",
   "execution_count": 54,
   "metadata": {},
   "outputs": [
    {
     "data": {
      "text/plain": [
       "id                       0\n",
       "Artist Name              0\n",
       "Track Name               0\n",
       "Popularity             351\n",
       "danceability             0\n",
       "energy                   0\n",
       "key                   1612\n",
       "loudness                 0\n",
       "mode                     0\n",
       "speechiness              0\n",
       "acousticness             0\n",
       "instrumentalness      3559\n",
       "liveness                 0\n",
       "valence                  0\n",
       "tempo                    0\n",
       "duration_in min/ms       0\n",
       "time_signature           0\n",
       "Class                    0\n",
       "dtype: int64"
      ]
     },
     "execution_count": 54,
     "metadata": {},
     "output_type": "execute_result"
    }
   ],
   "source": [
    "data.isnull().sum()"
   ]
  },
  {
   "cell_type": "code",
   "execution_count": 55,
   "metadata": {
    "id": "BV2sFe-H3-qM"
   },
   "outputs": [
    {
     "data": {
      "text/plain": [
       "12301     1\n",
       "3437     10\n",
       "3328      4\n",
       "5225      0\n",
       "5687      9\n",
       "         ..\n",
       "5191      2\n",
       "13418    10\n",
       "5390      5\n",
       "860       5\n",
       "7270      8\n",
       "Name: Class, Length: 12236, dtype: int64"
      ]
     },
     "execution_count": 55,
     "metadata": {},
     "output_type": "execute_result"
    }
   ],
   "source": [
    "X=data.drop(columns='Class',axis=1)\n",
    "y=data['Class']\n",
    "X_train,X_test,y_train,y_test = train_test_split(X,y,shuffle=True ,test_size=0.15 , random_state=42)\n",
    "\n",
    "\n",
    "y_train"
   ]
  },
  {
   "cell_type": "code",
   "execution_count": 56,
   "metadata": {},
   "outputs": [],
   "source": [
    "data['Popularity'].fillna(data['Popularity'].mean(), inplace=True) # Popularity --> mean\n",
    "data['instrumentalness'].fillna(data['instrumentalness'].mean(), inplace=True) # instrumentalness --> mean\n",
    "data['key'].fillna(data['instrumentalness'].mean(), inplace=True) # key --> mode (most common)"
   ]
  },
  {
   "cell_type": "code",
   "execution_count": 57,
   "metadata": {},
   "outputs": [
    {
     "data": {
      "text/plain": [
       "id                    0\n",
       "Artist Name           0\n",
       "Track Name            0\n",
       "Popularity            0\n",
       "danceability          0\n",
       "energy                0\n",
       "key                   0\n",
       "loudness              0\n",
       "mode                  0\n",
       "speechiness           0\n",
       "acousticness          0\n",
       "instrumentalness      0\n",
       "liveness              0\n",
       "valence               0\n",
       "tempo                 0\n",
       "duration_in min/ms    0\n",
       "time_signature        0\n",
       "Class                 0\n",
       "dtype: int64"
      ]
     },
     "execution_count": 57,
     "metadata": {},
     "output_type": "execute_result"
    }
   ],
   "source": [
    "data.isnull().sum()"
   ]
  },
  {
   "cell_type": "code",
   "execution_count": 58,
   "metadata": {
    "colab": {
     "base_uri": "https://localhost:8080/"
    },
    "id": "dbVrGL9Z4iRq",
    "outputId": "920ad1c5-b2ee-40d1-ccae-da2a9d89f24c"
   },
   "outputs": [
    {
     "data": {
      "text/plain": [
       "array([ 3,  5,  6,  9,  1, 10,  0,  7,  2,  8,  4], dtype=int64)"
      ]
     },
     "execution_count": 58,
     "metadata": {},
     "output_type": "execute_result"
    }
   ],
   "source": [
    "data['Class'].unique()"
   ]
  },
  {
   "cell_type": "code",
   "execution_count": 59,
   "metadata": {
    "id": "azJ_kFpUJCwm"
   },
   "outputs": [],
   "source": [
    "num_cols=[col for col in X_train.columns if X_train[col].dtype in ['int32', 'int64' , 'float32','float64']]\n",
    "categ_cols=[col for col in X_train.columns if X_train[col].dtype not in ['int32', 'int64' , 'float32','float64']]"
   ]
  },
  {
   "cell_type": "code",
   "execution_count": 60,
   "metadata": {
    "colab": {
     "base_uri": "https://localhost:8080/"
    },
    "id": "Qw8Y1kmfVXKQ",
    "outputId": "f6c39340-b6a1-4b82-ad07-1b6c0711d396"
   },
   "outputs": [
    {
     "data": {
      "text/plain": [
       "['id',\n",
       " 'Popularity',\n",
       " 'danceability',\n",
       " 'energy',\n",
       " 'key',\n",
       " 'loudness',\n",
       " 'mode',\n",
       " 'speechiness',\n",
       " 'acousticness',\n",
       " 'instrumentalness',\n",
       " 'liveness',\n",
       " 'valence',\n",
       " 'tempo',\n",
       " 'duration_in min/ms',\n",
       " 'time_signature']"
      ]
     },
     "execution_count": 60,
     "metadata": {},
     "output_type": "execute_result"
    }
   ],
   "source": [
    "num_cols"
   ]
  },
  {
   "cell_type": "code",
   "execution_count": 61,
   "metadata": {
    "colab": {
     "base_uri": "https://localhost:8080/"
    },
    "id": "ikoZv6mSK2ZV",
    "outputId": "c0f16e72-2bbe-4f8c-a13f-a9c6db5a6875"
   },
   "outputs": [
    {
     "data": {
      "text/plain": [
       "['Artist Name', 'Track Name']"
      ]
     },
     "execution_count": 61,
     "metadata": {},
     "output_type": "execute_result"
    }
   ],
   "source": [
    "categ_cols"
   ]
  },
  {
   "cell_type": "code",
   "execution_count": 62,
   "metadata": {
    "id": "fBPuSZa1JJQk"
   },
   "outputs": [],
   "source": [
    "scaler = StandardScaler()\n",
    "scaler.fit(X_train[num_cols])\n",
    "mms = MinMaxScaler()\n",
    "X_train_scaled = scaler.transform(X_train[num_cols])\n",
    "X_test_scaled = scaler.transform(X_test[num_cols])"
   ]
  },
  {
   "cell_type": "code",
   "execution_count": 63,
   "metadata": {
    "id": "cqMNbd7oJnKj"
   },
   "outputs": [],
   "source": [
    "num_pipline = Pipeline(steps =\n",
    "         [\n",
    "             ('imputer' ,SimpleImputer(strategy='median') ),\n",
    "             ('scaler' ,MinMaxScaler())\n",
    "#              ('scaler2' ,StandardScaler())\n",
    "         ])\n",
    "\n",
    "X_train_num = num_pipline.fit_transform(X_train[num_cols])\n",
    "X_test_num = num_pipline.transform(X_test[num_cols])"
   ]
  },
  {
   "cell_type": "code",
   "execution_count": 64,
   "metadata": {
    "id": "b62EYMhOKnRG"
   },
   "outputs": [],
   "source": [
    "categ_pipline = Pipeline(steps =\n",
    "         [\n",
    "             ('imputer' ,SimpleImputer(strategy='constant',fill_value='missing') ),\n",
    "             ('ohe' ,OneHotEncoder(handle_unknown='ignore',sparse=False)),\n",
    "#              ('enc' , LabelEncoder()),\n",
    "         ])\n",
    "# OrdinalEncoder(handle_unknown='use_encoded_value', unknown_value=-1)\n",
    "X_train_cat = categ_pipline.fit_transform(X_train[categ_cols])\n",
    "X_test_cat = categ_pipline.transform(X_test[categ_cols])\n"
   ]
  },
  {
   "cell_type": "code",
   "execution_count": 65,
   "metadata": {
    "id": "R_MuyVbCXLEE"
   },
   "outputs": [],
   "source": [
    "f_train = np.column_stack((X_train_scaled,X_train_cat))"
   ]
  },
  {
   "cell_type": "code",
   "execution_count": 66,
   "metadata": {
    "id": "W_QhBbvGXLaN"
   },
   "outputs": [],
   "source": [
    "f_test=np.column_stack((X_test_scaled,X_test_cat))"
   ]
  },
  {
   "cell_type": "code",
   "execution_count": 67,
   "metadata": {
    "id": "HcYTIXYn4iUt"
   },
   "outputs": [],
   "source": [
    "some_data = data.iloc[1000]"
   ]
  },
  {
   "cell_type": "code",
   "execution_count": 68,
   "metadata": {
    "id": "8BQqJIH0YM4d"
   },
   "outputs": [],
   "source": [
    "data =pd.DataFrame(f_train)"
   ]
  },
  {
   "cell_type": "code",
   "execution_count": 69,
   "metadata": {},
   "outputs": [],
   "source": [
    "data_test =pd.DataFrame(f_test)"
   ]
  },
  {
   "cell_type": "code",
   "execution_count": 70,
   "metadata": {
    "colab": {
     "base_uri": "https://localhost:8080/",
     "height": 488
    },
    "id": "rrVHtEKtfeOw",
    "outputId": "858528a8-aa85-40f1-bbe3-fdff237505f0"
   },
   "outputs": [
    {
     "data": {
      "text/html": [
       "<div>\n",
       "<style scoped>\n",
       "    .dataframe tbody tr th:only-of-type {\n",
       "        vertical-align: middle;\n",
       "    }\n",
       "\n",
       "    .dataframe tbody tr th {\n",
       "        vertical-align: top;\n",
       "    }\n",
       "\n",
       "    .dataframe thead th {\n",
       "        text-align: right;\n",
       "    }\n",
       "</style>\n",
       "<table border=\"1\" class=\"dataframe\">\n",
       "  <thead>\n",
       "    <tr style=\"text-align: right;\">\n",
       "      <th></th>\n",
       "      <th>0</th>\n",
       "      <th>1</th>\n",
       "      <th>2</th>\n",
       "      <th>3</th>\n",
       "      <th>4</th>\n",
       "      <th>5</th>\n",
       "      <th>6</th>\n",
       "      <th>7</th>\n",
       "      <th>8</th>\n",
       "      <th>9</th>\n",
       "      <th>...</th>\n",
       "      <th>17771</th>\n",
       "      <th>17772</th>\n",
       "      <th>17773</th>\n",
       "      <th>17774</th>\n",
       "      <th>17775</th>\n",
       "      <th>17776</th>\n",
       "      <th>17777</th>\n",
       "      <th>17778</th>\n",
       "      <th>17779</th>\n",
       "      <th>17780</th>\n",
       "    </tr>\n",
       "  </thead>\n",
       "  <tbody>\n",
       "    <tr>\n",
       "      <th>0</th>\n",
       "      <td>1.226821</td>\n",
       "      <td>0.363854</td>\n",
       "      <td>1.734303</td>\n",
       "      <td>0.223055</td>\n",
       "      <td>0.953765</td>\n",
       "      <td>-0.831661</td>\n",
       "      <td>0.749606</td>\n",
       "      <td>-0.476057</td>\n",
       "      <td>0.925557</td>\n",
       "      <td>NaN</td>\n",
       "      <td>...</td>\n",
       "      <td>0.0</td>\n",
       "      <td>0.0</td>\n",
       "      <td>0.0</td>\n",
       "      <td>0.0</td>\n",
       "      <td>0.0</td>\n",
       "      <td>0.0</td>\n",
       "      <td>0.0</td>\n",
       "      <td>0.0</td>\n",
       "      <td>0.0</td>\n",
       "      <td>0.0</td>\n",
       "    </tr>\n",
       "    <tr>\n",
       "      <th>1</th>\n",
       "      <td>-0.904872</td>\n",
       "      <td>1.856196</td>\n",
       "      <td>0.072321</td>\n",
       "      <td>1.060594</td>\n",
       "      <td>NaN</td>\n",
       "      <td>1.360989</td>\n",
       "      <td>0.749606</td>\n",
       "      <td>-0.432154</td>\n",
       "      <td>-0.732611</td>\n",
       "      <td>-0.582213</td>\n",
       "      <td>...</td>\n",
       "      <td>0.0</td>\n",
       "      <td>0.0</td>\n",
       "      <td>0.0</td>\n",
       "      <td>0.0</td>\n",
       "      <td>0.0</td>\n",
       "      <td>0.0</td>\n",
       "      <td>0.0</td>\n",
       "      <td>0.0</td>\n",
       "      <td>0.0</td>\n",
       "      <td>0.0</td>\n",
       "    </tr>\n",
       "    <tr>\n",
       "      <th>2</th>\n",
       "      <td>-0.931086</td>\n",
       "      <td>1.282218</td>\n",
       "      <td>0.084320</td>\n",
       "      <td>0.235809</td>\n",
       "      <td>1.579299</td>\n",
       "      <td>0.562476</td>\n",
       "      <td>0.749606</td>\n",
       "      <td>-0.453512</td>\n",
       "      <td>-0.468892</td>\n",
       "      <td>NaN</td>\n",
       "      <td>...</td>\n",
       "      <td>0.0</td>\n",
       "      <td>0.0</td>\n",
       "      <td>0.0</td>\n",
       "      <td>0.0</td>\n",
       "      <td>0.0</td>\n",
       "      <td>0.0</td>\n",
       "      <td>0.0</td>\n",
       "      <td>0.0</td>\n",
       "      <td>0.0</td>\n",
       "      <td>0.0</td>\n",
       "    </tr>\n",
       "    <tr>\n",
       "      <th>3</th>\n",
       "      <td>-0.474878</td>\n",
       "      <td>0.650843</td>\n",
       "      <td>0.792313</td>\n",
       "      <td>-1.690107</td>\n",
       "      <td>0.953765</td>\n",
       "      <td>-0.236284</td>\n",
       "      <td>0.749606</td>\n",
       "      <td>1.232596</td>\n",
       "      <td>0.864227</td>\n",
       "      <td>NaN</td>\n",
       "      <td>...</td>\n",
       "      <td>0.0</td>\n",
       "      <td>0.0</td>\n",
       "      <td>0.0</td>\n",
       "      <td>0.0</td>\n",
       "      <td>0.0</td>\n",
       "      <td>0.0</td>\n",
       "      <td>0.0</td>\n",
       "      <td>0.0</td>\n",
       "      <td>0.0</td>\n",
       "      <td>0.0</td>\n",
       "    </tr>\n",
       "    <tr>\n",
       "      <th>4</th>\n",
       "      <td>-0.363772</td>\n",
       "      <td>-1.989454</td>\n",
       "      <td>0.444317</td>\n",
       "      <td>-0.763287</td>\n",
       "      <td>-1.235600</td>\n",
       "      <td>0.464724</td>\n",
       "      <td>0.749606</td>\n",
       "      <td>0.354538</td>\n",
       "      <td>1.900381</td>\n",
       "      <td>-0.581923</td>\n",
       "      <td>...</td>\n",
       "      <td>0.0</td>\n",
       "      <td>0.0</td>\n",
       "      <td>0.0</td>\n",
       "      <td>0.0</td>\n",
       "      <td>0.0</td>\n",
       "      <td>0.0</td>\n",
       "      <td>0.0</td>\n",
       "      <td>0.0</td>\n",
       "      <td>0.0</td>\n",
       "      <td>0.0</td>\n",
       "    </tr>\n",
       "    <tr>\n",
       "      <th>...</th>\n",
       "      <td>...</td>\n",
       "      <td>...</td>\n",
       "      <td>...</td>\n",
       "      <td>...</td>\n",
       "      <td>...</td>\n",
       "      <td>...</td>\n",
       "      <td>...</td>\n",
       "      <td>...</td>\n",
       "      <td>...</td>\n",
       "      <td>...</td>\n",
       "      <td>...</td>\n",
       "      <td>...</td>\n",
       "      <td>...</td>\n",
       "      <td>...</td>\n",
       "      <td>...</td>\n",
       "      <td>...</td>\n",
       "      <td>...</td>\n",
       "      <td>...</td>\n",
       "      <td>...</td>\n",
       "      <td>...</td>\n",
       "      <td>...</td>\n",
       "    </tr>\n",
       "    <tr>\n",
       "      <th>12231</th>\n",
       "      <td>-0.483055</td>\n",
       "      <td>-0.382317</td>\n",
       "      <td>-1.121667</td>\n",
       "      <td>0.397365</td>\n",
       "      <td>0.328232</td>\n",
       "      <td>0.098584</td>\n",
       "      <td>-1.334034</td>\n",
       "      <td>-0.464191</td>\n",
       "      <td>-0.792188</td>\n",
       "      <td>-0.567939</td>\n",
       "      <td>...</td>\n",
       "      <td>0.0</td>\n",
       "      <td>0.0</td>\n",
       "      <td>0.0</td>\n",
       "      <td>0.0</td>\n",
       "      <td>0.0</td>\n",
       "      <td>0.0</td>\n",
       "      <td>0.0</td>\n",
       "      <td>0.0</td>\n",
       "      <td>0.0</td>\n",
       "      <td>0.0</td>\n",
       "    </tr>\n",
       "    <tr>\n",
       "      <th>12232</th>\n",
       "      <td>1.495447</td>\n",
       "      <td>-1.530272</td>\n",
       "      <td>-1.037668</td>\n",
       "      <td>1.001074</td>\n",
       "      <td>0.015466</td>\n",
       "      <td>0.943389</td>\n",
       "      <td>0.749606</td>\n",
       "      <td>-0.171110</td>\n",
       "      <td>-0.794813</td>\n",
       "      <td>-0.581722</td>\n",
       "      <td>...</td>\n",
       "      <td>0.0</td>\n",
       "      <td>0.0</td>\n",
       "      <td>0.0</td>\n",
       "      <td>0.0</td>\n",
       "      <td>0.0</td>\n",
       "      <td>0.0</td>\n",
       "      <td>0.0</td>\n",
       "      <td>0.0</td>\n",
       "      <td>0.0</td>\n",
       "      <td>0.0</td>\n",
       "    </tr>\n",
       "    <tr>\n",
       "      <th>12233</th>\n",
       "      <td>-0.435198</td>\n",
       "      <td>0.880434</td>\n",
       "      <td>2.208298</td>\n",
       "      <td>-0.287122</td>\n",
       "      <td>0.015466</td>\n",
       "      <td>-0.510089</td>\n",
       "      <td>0.749606</td>\n",
       "      <td>4.400723</td>\n",
       "      <td>0.760935</td>\n",
       "      <td>-0.581028</td>\n",
       "      <td>...</td>\n",
       "      <td>0.0</td>\n",
       "      <td>0.0</td>\n",
       "      <td>0.0</td>\n",
       "      <td>0.0</td>\n",
       "      <td>0.0</td>\n",
       "      <td>0.0</td>\n",
       "      <td>0.0</td>\n",
       "      <td>0.0</td>\n",
       "      <td>0.0</td>\n",
       "      <td>0.0</td>\n",
       "    </tr>\n",
       "    <tr>\n",
       "      <th>12234</th>\n",
       "      <td>-1.524612</td>\n",
       "      <td>-1.874658</td>\n",
       "      <td>1.620304</td>\n",
       "      <td>0.257066</td>\n",
       "      <td>-1.235600</td>\n",
       "      <td>0.195844</td>\n",
       "      <td>0.749606</td>\n",
       "      <td>0.307075</td>\n",
       "      <td>0.183142</td>\n",
       "      <td>NaN</td>\n",
       "      <td>...</td>\n",
       "      <td>0.0</td>\n",
       "      <td>0.0</td>\n",
       "      <td>0.0</td>\n",
       "      <td>0.0</td>\n",
       "      <td>0.0</td>\n",
       "      <td>0.0</td>\n",
       "      <td>0.0</td>\n",
       "      <td>0.0</td>\n",
       "      <td>0.0</td>\n",
       "      <td>0.0</td>\n",
       "    </tr>\n",
       "    <tr>\n",
       "      <th>12235</th>\n",
       "      <td>0.016921</td>\n",
       "      <td>0.134263</td>\n",
       "      <td>0.090320</td>\n",
       "      <td>-0.474187</td>\n",
       "      <td>0.328232</td>\n",
       "      <td>-0.129668</td>\n",
       "      <td>0.749606</td>\n",
       "      <td>-0.553184</td>\n",
       "      <td>-0.766246</td>\n",
       "      <td>0.624402</td>\n",
       "      <td>...</td>\n",
       "      <td>0.0</td>\n",
       "      <td>0.0</td>\n",
       "      <td>0.0</td>\n",
       "      <td>0.0</td>\n",
       "      <td>0.0</td>\n",
       "      <td>0.0</td>\n",
       "      <td>0.0</td>\n",
       "      <td>0.0</td>\n",
       "      <td>0.0</td>\n",
       "      <td>0.0</td>\n",
       "    </tr>\n",
       "  </tbody>\n",
       "</table>\n",
       "<p>12236 rows × 17781 columns</p>\n",
       "</div>"
      ],
      "text/plain": [
       "          0         1         2         3         4         5         6      \\\n",
       "0      1.226821  0.363854  1.734303  0.223055  0.953765 -0.831661  0.749606   \n",
       "1     -0.904872  1.856196  0.072321  1.060594       NaN  1.360989  0.749606   \n",
       "2     -0.931086  1.282218  0.084320  0.235809  1.579299  0.562476  0.749606   \n",
       "3     -0.474878  0.650843  0.792313 -1.690107  0.953765 -0.236284  0.749606   \n",
       "4     -0.363772 -1.989454  0.444317 -0.763287 -1.235600  0.464724  0.749606   \n",
       "...         ...       ...       ...       ...       ...       ...       ...   \n",
       "12231 -0.483055 -0.382317 -1.121667  0.397365  0.328232  0.098584 -1.334034   \n",
       "12232  1.495447 -1.530272 -1.037668  1.001074  0.015466  0.943389  0.749606   \n",
       "12233 -0.435198  0.880434  2.208298 -0.287122  0.015466 -0.510089  0.749606   \n",
       "12234 -1.524612 -1.874658  1.620304  0.257066 -1.235600  0.195844  0.749606   \n",
       "12235  0.016921  0.134263  0.090320 -0.474187  0.328232 -0.129668  0.749606   \n",
       "\n",
       "          7         8         9      ...  17771  17772  17773  17774  17775  \\\n",
       "0     -0.476057  0.925557       NaN  ...    0.0    0.0    0.0    0.0    0.0   \n",
       "1     -0.432154 -0.732611 -0.582213  ...    0.0    0.0    0.0    0.0    0.0   \n",
       "2     -0.453512 -0.468892       NaN  ...    0.0    0.0    0.0    0.0    0.0   \n",
       "3      1.232596  0.864227       NaN  ...    0.0    0.0    0.0    0.0    0.0   \n",
       "4      0.354538  1.900381 -0.581923  ...    0.0    0.0    0.0    0.0    0.0   \n",
       "...         ...       ...       ...  ...    ...    ...    ...    ...    ...   \n",
       "12231 -0.464191 -0.792188 -0.567939  ...    0.0    0.0    0.0    0.0    0.0   \n",
       "12232 -0.171110 -0.794813 -0.581722  ...    0.0    0.0    0.0    0.0    0.0   \n",
       "12233  4.400723  0.760935 -0.581028  ...    0.0    0.0    0.0    0.0    0.0   \n",
       "12234  0.307075  0.183142       NaN  ...    0.0    0.0    0.0    0.0    0.0   \n",
       "12235 -0.553184 -0.766246  0.624402  ...    0.0    0.0    0.0    0.0    0.0   \n",
       "\n",
       "       17776  17777  17778  17779  17780  \n",
       "0        0.0    0.0    0.0    0.0    0.0  \n",
       "1        0.0    0.0    0.0    0.0    0.0  \n",
       "2        0.0    0.0    0.0    0.0    0.0  \n",
       "3        0.0    0.0    0.0    0.0    0.0  \n",
       "4        0.0    0.0    0.0    0.0    0.0  \n",
       "...      ...    ...    ...    ...    ...  \n",
       "12231    0.0    0.0    0.0    0.0    0.0  \n",
       "12232    0.0    0.0    0.0    0.0    0.0  \n",
       "12233    0.0    0.0    0.0    0.0    0.0  \n",
       "12234    0.0    0.0    0.0    0.0    0.0  \n",
       "12235    0.0    0.0    0.0    0.0    0.0  \n",
       "\n",
       "[12236 rows x 17781 columns]"
      ]
     },
     "execution_count": 70,
     "metadata": {},
     "output_type": "execute_result"
    }
   ],
   "source": [
    "pd.DataFrame(f_train)"
   ]
  },
  {
   "cell_type": "code",
   "execution_count": 71,
   "metadata": {},
   "outputs": [
    {
     "data": {
      "text/plain": [
       "0           0\n",
       "1         301\n",
       "2           0\n",
       "3           0\n",
       "4        1356\n",
       "         ... \n",
       "17776       0\n",
       "17777       0\n",
       "17778       0\n",
       "17779       0\n",
       "17780       0\n",
       "Length: 17781, dtype: int64"
      ]
     },
     "execution_count": 71,
     "metadata": {},
     "output_type": "execute_result"
    }
   ],
   "source": [
    "data.isnull().sum()"
   ]
  },
  {
   "cell_type": "code",
   "execution_count": 72,
   "metadata": {
    "id": "w4vPdd89DrGo"
   },
   "outputs": [],
   "source": [
    "sgd_clf = SGDClassifier(random_state=42)"
   ]
  },
  {
   "cell_type": "code",
   "execution_count": 73,
   "metadata": {
    "id": "PVtmi8jJaahp"
   },
   "outputs": [],
   "source": [
    "data_train=data.fillna(1)\n",
    "# data_train=data.fillna(0)"
   ]
  },
  {
   "cell_type": "code",
   "execution_count": 74,
   "metadata": {},
   "outputs": [],
   "source": [
    "data_test=data_test.fillna(1)\n",
    "# data_test=data_test.fillna(0)"
   ]
  },
  {
   "cell_type": "code",
   "execution_count": 75,
   "metadata": {
    "colab": {
     "base_uri": "https://localhost:8080/",
     "height": 488
    },
    "id": "WiYRKs2IfMc_",
    "outputId": "78c74472-122b-44c0-8a20-b58f518c6c9b"
   },
   "outputs": [
    {
     "data": {
      "text/html": [
       "<div>\n",
       "<style scoped>\n",
       "    .dataframe tbody tr th:only-of-type {\n",
       "        vertical-align: middle;\n",
       "    }\n",
       "\n",
       "    .dataframe tbody tr th {\n",
       "        vertical-align: top;\n",
       "    }\n",
       "\n",
       "    .dataframe thead th {\n",
       "        text-align: right;\n",
       "    }\n",
       "</style>\n",
       "<table border=\"1\" class=\"dataframe\">\n",
       "  <thead>\n",
       "    <tr style=\"text-align: right;\">\n",
       "      <th></th>\n",
       "      <th>0</th>\n",
       "      <th>1</th>\n",
       "      <th>2</th>\n",
       "      <th>3</th>\n",
       "      <th>4</th>\n",
       "      <th>5</th>\n",
       "      <th>6</th>\n",
       "      <th>7</th>\n",
       "      <th>8</th>\n",
       "      <th>9</th>\n",
       "      <th>...</th>\n",
       "      <th>17771</th>\n",
       "      <th>17772</th>\n",
       "      <th>17773</th>\n",
       "      <th>17774</th>\n",
       "      <th>17775</th>\n",
       "      <th>17776</th>\n",
       "      <th>17777</th>\n",
       "      <th>17778</th>\n",
       "      <th>17779</th>\n",
       "      <th>17780</th>\n",
       "    </tr>\n",
       "  </thead>\n",
       "  <tbody>\n",
       "    <tr>\n",
       "      <th>0</th>\n",
       "      <td>1.226821</td>\n",
       "      <td>0.363854</td>\n",
       "      <td>1.734303</td>\n",
       "      <td>0.223055</td>\n",
       "      <td>0.953765</td>\n",
       "      <td>-0.831661</td>\n",
       "      <td>0.749606</td>\n",
       "      <td>-0.476057</td>\n",
       "      <td>0.925557</td>\n",
       "      <td>1.000000</td>\n",
       "      <td>...</td>\n",
       "      <td>0.0</td>\n",
       "      <td>0.0</td>\n",
       "      <td>0.0</td>\n",
       "      <td>0.0</td>\n",
       "      <td>0.0</td>\n",
       "      <td>0.0</td>\n",
       "      <td>0.0</td>\n",
       "      <td>0.0</td>\n",
       "      <td>0.0</td>\n",
       "      <td>0.0</td>\n",
       "    </tr>\n",
       "    <tr>\n",
       "      <th>1</th>\n",
       "      <td>-0.904872</td>\n",
       "      <td>1.856196</td>\n",
       "      <td>0.072321</td>\n",
       "      <td>1.060594</td>\n",
       "      <td>1.000000</td>\n",
       "      <td>1.360989</td>\n",
       "      <td>0.749606</td>\n",
       "      <td>-0.432154</td>\n",
       "      <td>-0.732611</td>\n",
       "      <td>-0.582213</td>\n",
       "      <td>...</td>\n",
       "      <td>0.0</td>\n",
       "      <td>0.0</td>\n",
       "      <td>0.0</td>\n",
       "      <td>0.0</td>\n",
       "      <td>0.0</td>\n",
       "      <td>0.0</td>\n",
       "      <td>0.0</td>\n",
       "      <td>0.0</td>\n",
       "      <td>0.0</td>\n",
       "      <td>0.0</td>\n",
       "    </tr>\n",
       "    <tr>\n",
       "      <th>2</th>\n",
       "      <td>-0.931086</td>\n",
       "      <td>1.282218</td>\n",
       "      <td>0.084320</td>\n",
       "      <td>0.235809</td>\n",
       "      <td>1.579299</td>\n",
       "      <td>0.562476</td>\n",
       "      <td>0.749606</td>\n",
       "      <td>-0.453512</td>\n",
       "      <td>-0.468892</td>\n",
       "      <td>1.000000</td>\n",
       "      <td>...</td>\n",
       "      <td>0.0</td>\n",
       "      <td>0.0</td>\n",
       "      <td>0.0</td>\n",
       "      <td>0.0</td>\n",
       "      <td>0.0</td>\n",
       "      <td>0.0</td>\n",
       "      <td>0.0</td>\n",
       "      <td>0.0</td>\n",
       "      <td>0.0</td>\n",
       "      <td>0.0</td>\n",
       "    </tr>\n",
       "    <tr>\n",
       "      <th>3</th>\n",
       "      <td>-0.474878</td>\n",
       "      <td>0.650843</td>\n",
       "      <td>0.792313</td>\n",
       "      <td>-1.690107</td>\n",
       "      <td>0.953765</td>\n",
       "      <td>-0.236284</td>\n",
       "      <td>0.749606</td>\n",
       "      <td>1.232596</td>\n",
       "      <td>0.864227</td>\n",
       "      <td>1.000000</td>\n",
       "      <td>...</td>\n",
       "      <td>0.0</td>\n",
       "      <td>0.0</td>\n",
       "      <td>0.0</td>\n",
       "      <td>0.0</td>\n",
       "      <td>0.0</td>\n",
       "      <td>0.0</td>\n",
       "      <td>0.0</td>\n",
       "      <td>0.0</td>\n",
       "      <td>0.0</td>\n",
       "      <td>0.0</td>\n",
       "    </tr>\n",
       "    <tr>\n",
       "      <th>4</th>\n",
       "      <td>-0.363772</td>\n",
       "      <td>-1.989454</td>\n",
       "      <td>0.444317</td>\n",
       "      <td>-0.763287</td>\n",
       "      <td>-1.235600</td>\n",
       "      <td>0.464724</td>\n",
       "      <td>0.749606</td>\n",
       "      <td>0.354538</td>\n",
       "      <td>1.900381</td>\n",
       "      <td>-0.581923</td>\n",
       "      <td>...</td>\n",
       "      <td>0.0</td>\n",
       "      <td>0.0</td>\n",
       "      <td>0.0</td>\n",
       "      <td>0.0</td>\n",
       "      <td>0.0</td>\n",
       "      <td>0.0</td>\n",
       "      <td>0.0</td>\n",
       "      <td>0.0</td>\n",
       "      <td>0.0</td>\n",
       "      <td>0.0</td>\n",
       "    </tr>\n",
       "    <tr>\n",
       "      <th>...</th>\n",
       "      <td>...</td>\n",
       "      <td>...</td>\n",
       "      <td>...</td>\n",
       "      <td>...</td>\n",
       "      <td>...</td>\n",
       "      <td>...</td>\n",
       "      <td>...</td>\n",
       "      <td>...</td>\n",
       "      <td>...</td>\n",
       "      <td>...</td>\n",
       "      <td>...</td>\n",
       "      <td>...</td>\n",
       "      <td>...</td>\n",
       "      <td>...</td>\n",
       "      <td>...</td>\n",
       "      <td>...</td>\n",
       "      <td>...</td>\n",
       "      <td>...</td>\n",
       "      <td>...</td>\n",
       "      <td>...</td>\n",
       "      <td>...</td>\n",
       "    </tr>\n",
       "    <tr>\n",
       "      <th>12231</th>\n",
       "      <td>-0.483055</td>\n",
       "      <td>-0.382317</td>\n",
       "      <td>-1.121667</td>\n",
       "      <td>0.397365</td>\n",
       "      <td>0.328232</td>\n",
       "      <td>0.098584</td>\n",
       "      <td>-1.334034</td>\n",
       "      <td>-0.464191</td>\n",
       "      <td>-0.792188</td>\n",
       "      <td>-0.567939</td>\n",
       "      <td>...</td>\n",
       "      <td>0.0</td>\n",
       "      <td>0.0</td>\n",
       "      <td>0.0</td>\n",
       "      <td>0.0</td>\n",
       "      <td>0.0</td>\n",
       "      <td>0.0</td>\n",
       "      <td>0.0</td>\n",
       "      <td>0.0</td>\n",
       "      <td>0.0</td>\n",
       "      <td>0.0</td>\n",
       "    </tr>\n",
       "    <tr>\n",
       "      <th>12232</th>\n",
       "      <td>1.495447</td>\n",
       "      <td>-1.530272</td>\n",
       "      <td>-1.037668</td>\n",
       "      <td>1.001074</td>\n",
       "      <td>0.015466</td>\n",
       "      <td>0.943389</td>\n",
       "      <td>0.749606</td>\n",
       "      <td>-0.171110</td>\n",
       "      <td>-0.794813</td>\n",
       "      <td>-0.581722</td>\n",
       "      <td>...</td>\n",
       "      <td>0.0</td>\n",
       "      <td>0.0</td>\n",
       "      <td>0.0</td>\n",
       "      <td>0.0</td>\n",
       "      <td>0.0</td>\n",
       "      <td>0.0</td>\n",
       "      <td>0.0</td>\n",
       "      <td>0.0</td>\n",
       "      <td>0.0</td>\n",
       "      <td>0.0</td>\n",
       "    </tr>\n",
       "    <tr>\n",
       "      <th>12233</th>\n",
       "      <td>-0.435198</td>\n",
       "      <td>0.880434</td>\n",
       "      <td>2.208298</td>\n",
       "      <td>-0.287122</td>\n",
       "      <td>0.015466</td>\n",
       "      <td>-0.510089</td>\n",
       "      <td>0.749606</td>\n",
       "      <td>4.400723</td>\n",
       "      <td>0.760935</td>\n",
       "      <td>-0.581028</td>\n",
       "      <td>...</td>\n",
       "      <td>0.0</td>\n",
       "      <td>0.0</td>\n",
       "      <td>0.0</td>\n",
       "      <td>0.0</td>\n",
       "      <td>0.0</td>\n",
       "      <td>0.0</td>\n",
       "      <td>0.0</td>\n",
       "      <td>0.0</td>\n",
       "      <td>0.0</td>\n",
       "      <td>0.0</td>\n",
       "    </tr>\n",
       "    <tr>\n",
       "      <th>12234</th>\n",
       "      <td>-1.524612</td>\n",
       "      <td>-1.874658</td>\n",
       "      <td>1.620304</td>\n",
       "      <td>0.257066</td>\n",
       "      <td>-1.235600</td>\n",
       "      <td>0.195844</td>\n",
       "      <td>0.749606</td>\n",
       "      <td>0.307075</td>\n",
       "      <td>0.183142</td>\n",
       "      <td>1.000000</td>\n",
       "      <td>...</td>\n",
       "      <td>0.0</td>\n",
       "      <td>0.0</td>\n",
       "      <td>0.0</td>\n",
       "      <td>0.0</td>\n",
       "      <td>0.0</td>\n",
       "      <td>0.0</td>\n",
       "      <td>0.0</td>\n",
       "      <td>0.0</td>\n",
       "      <td>0.0</td>\n",
       "      <td>0.0</td>\n",
       "    </tr>\n",
       "    <tr>\n",
       "      <th>12235</th>\n",
       "      <td>0.016921</td>\n",
       "      <td>0.134263</td>\n",
       "      <td>0.090320</td>\n",
       "      <td>-0.474187</td>\n",
       "      <td>0.328232</td>\n",
       "      <td>-0.129668</td>\n",
       "      <td>0.749606</td>\n",
       "      <td>-0.553184</td>\n",
       "      <td>-0.766246</td>\n",
       "      <td>0.624402</td>\n",
       "      <td>...</td>\n",
       "      <td>0.0</td>\n",
       "      <td>0.0</td>\n",
       "      <td>0.0</td>\n",
       "      <td>0.0</td>\n",
       "      <td>0.0</td>\n",
       "      <td>0.0</td>\n",
       "      <td>0.0</td>\n",
       "      <td>0.0</td>\n",
       "      <td>0.0</td>\n",
       "      <td>0.0</td>\n",
       "    </tr>\n",
       "  </tbody>\n",
       "</table>\n",
       "<p>12236 rows × 17781 columns</p>\n",
       "</div>"
      ],
      "text/plain": [
       "          0         1         2         3         4         5         6      \\\n",
       "0      1.226821  0.363854  1.734303  0.223055  0.953765 -0.831661  0.749606   \n",
       "1     -0.904872  1.856196  0.072321  1.060594  1.000000  1.360989  0.749606   \n",
       "2     -0.931086  1.282218  0.084320  0.235809  1.579299  0.562476  0.749606   \n",
       "3     -0.474878  0.650843  0.792313 -1.690107  0.953765 -0.236284  0.749606   \n",
       "4     -0.363772 -1.989454  0.444317 -0.763287 -1.235600  0.464724  0.749606   \n",
       "...         ...       ...       ...       ...       ...       ...       ...   \n",
       "12231 -0.483055 -0.382317 -1.121667  0.397365  0.328232  0.098584 -1.334034   \n",
       "12232  1.495447 -1.530272 -1.037668  1.001074  0.015466  0.943389  0.749606   \n",
       "12233 -0.435198  0.880434  2.208298 -0.287122  0.015466 -0.510089  0.749606   \n",
       "12234 -1.524612 -1.874658  1.620304  0.257066 -1.235600  0.195844  0.749606   \n",
       "12235  0.016921  0.134263  0.090320 -0.474187  0.328232 -0.129668  0.749606   \n",
       "\n",
       "          7         8         9      ...  17771  17772  17773  17774  17775  \\\n",
       "0     -0.476057  0.925557  1.000000  ...    0.0    0.0    0.0    0.0    0.0   \n",
       "1     -0.432154 -0.732611 -0.582213  ...    0.0    0.0    0.0    0.0    0.0   \n",
       "2     -0.453512 -0.468892  1.000000  ...    0.0    0.0    0.0    0.0    0.0   \n",
       "3      1.232596  0.864227  1.000000  ...    0.0    0.0    0.0    0.0    0.0   \n",
       "4      0.354538  1.900381 -0.581923  ...    0.0    0.0    0.0    0.0    0.0   \n",
       "...         ...       ...       ...  ...    ...    ...    ...    ...    ...   \n",
       "12231 -0.464191 -0.792188 -0.567939  ...    0.0    0.0    0.0    0.0    0.0   \n",
       "12232 -0.171110 -0.794813 -0.581722  ...    0.0    0.0    0.0    0.0    0.0   \n",
       "12233  4.400723  0.760935 -0.581028  ...    0.0    0.0    0.0    0.0    0.0   \n",
       "12234  0.307075  0.183142  1.000000  ...    0.0    0.0    0.0    0.0    0.0   \n",
       "12235 -0.553184 -0.766246  0.624402  ...    0.0    0.0    0.0    0.0    0.0   \n",
       "\n",
       "       17776  17777  17778  17779  17780  \n",
       "0        0.0    0.0    0.0    0.0    0.0  \n",
       "1        0.0    0.0    0.0    0.0    0.0  \n",
       "2        0.0    0.0    0.0    0.0    0.0  \n",
       "3        0.0    0.0    0.0    0.0    0.0  \n",
       "4        0.0    0.0    0.0    0.0    0.0  \n",
       "...      ...    ...    ...    ...    ...  \n",
       "12231    0.0    0.0    0.0    0.0    0.0  \n",
       "12232    0.0    0.0    0.0    0.0    0.0  \n",
       "12233    0.0    0.0    0.0    0.0    0.0  \n",
       "12234    0.0    0.0    0.0    0.0    0.0  \n",
       "12235    0.0    0.0    0.0    0.0    0.0  \n",
       "\n",
       "[12236 rows x 17781 columns]"
      ]
     },
     "execution_count": 75,
     "metadata": {},
     "output_type": "execute_result"
    }
   ],
   "source": [
    "data_train"
   ]
  },
  {
   "cell_type": "code",
   "execution_count": 76,
   "metadata": {},
   "outputs": [
    {
     "data": {
      "text/plain": [
       "0       -1.693676\n",
       "1       -0.554510\n",
       "2       -0.809670\n",
       "3        0.435628\n",
       "4        0.953765\n",
       "           ...   \n",
       "17776    0.000000\n",
       "17777    0.000000\n",
       "17778    0.000000\n",
       "17779    0.000000\n",
       "17780    0.000000\n",
       "Name: 1000, Length: 17781, dtype: float64"
      ]
     },
     "execution_count": 76,
     "metadata": {},
     "output_type": "execute_result"
    }
   ],
   "source": [
    "some_data = data_train.iloc[1000]\n",
    "some_data"
   ]
  },
  {
   "cell_type": "code",
   "execution_count": 26,
   "metadata": {
    "id": "Enmoh9-4EQdZ"
   },
   "outputs": [
    {
     "data": {
      "text/plain": [
       "SGDClassifier(random_state=42)"
      ]
     },
     "execution_count": 26,
     "metadata": {},
     "output_type": "execute_result"
    }
   ],
   "source": [
    "sgd_clf.fit(data_train, y_train)\n"
   ]
  },
  {
   "cell_type": "code",
   "execution_count": 28,
   "metadata": {},
   "outputs": [
    {
     "data": {
      "text/plain": [
       "array([5, 3, 2, ..., 0, 8, 0], dtype=int64)"
      ]
     },
     "execution_count": 28,
     "metadata": {},
     "output_type": "execute_result"
    }
   ],
   "source": [
    "y_pred = sgd_clf.predict(data_test)\n",
    "y_pred"
   ]
  },
  {
   "cell_type": "code",
   "execution_count": 29,
   "metadata": {},
   "outputs": [
    {
     "data": {
      "text/plain": [
       "array([2], dtype=int64)"
      ]
     },
     "execution_count": 29,
     "metadata": {},
     "output_type": "execute_result"
    }
   ],
   "source": [
    "sgd_clf.predict([some_data])"
   ]
  },
  {
   "cell_type": "code",
   "execution_count": 30,
   "metadata": {
    "colab": {
     "base_uri": "https://localhost:8080/",
     "height": 372
    },
    "id": "rz5SOZCOCbLX",
    "outputId": "8e1ba1b4-1a34-4d51-f0e7-2ef79edb6543"
   },
   "outputs": [
    {
     "data": {
      "text/plain": [
       "array([[ -47.99861125,   -1.54648833,    0.98916915,  -61.66772402,\n",
       "         -49.27762938,   -1.88942547,   -1.35546373, -105.56363581,\n",
       "          -1.1932038 ,   -1.45594148,   -1.0722297 ]])"
      ]
     },
     "execution_count": 30,
     "metadata": {},
     "output_type": "execute_result"
    }
   ],
   "source": [
    "scores = sgd_clf.decision_function([some_data])\n",
    "scores"
   ]
  },
  {
   "cell_type": "code",
   "execution_count": 31,
   "metadata": {
    "id": "OIUOIReICbR4"
   },
   "outputs": [],
   "source": [
    "y_pred = sgd_clf.predict(data_test)\n"
   ]
  },
  {
   "cell_type": "code",
   "execution_count": 32,
   "metadata": {
    "id": "oNb7pSm_CbUu"
   },
   "outputs": [
    {
     "data": {
      "text/plain": [
       "0.5708333333333333"
      ]
     },
     "execution_count": 32,
     "metadata": {},
     "output_type": "execute_result"
    }
   ],
   "source": [
    "accuracy_score(y_test, y_pred)"
   ]
  },
  {
   "cell_type": "code",
   "execution_count": 33,
   "metadata": {
    "id": "JRQlkMdjCbY_"
   },
   "outputs": [],
   "source": [
    "y_pred_train = sgd_clf.predict(data_train)"
   ]
  },
  {
   "cell_type": "code",
   "execution_count": 34,
   "metadata": {},
   "outputs": [
    {
     "data": {
      "text/plain": [
       "0.9130434782608695"
      ]
     },
     "execution_count": 34,
     "metadata": {},
     "output_type": "execute_result"
    }
   ],
   "source": [
    "accuracy_score(y_pred_train, y_train)"
   ]
  },
  {
   "cell_type": "code",
   "execution_count": 88,
   "metadata": {},
   "outputs": [],
   "source": [
    "####################################################################################\\\n",
    "\n",
    "\n",
    "criterion = ['gini', 'entropy']\n",
    "\n",
    "\n",
    "max_depth = [8,10,12]\n",
    "min_samples_split = [8,10,12]\n",
    "min_samples_leaf=[1,2,3,4]\n",
    "\n",
    "parameters = dict(max_depth=max_depth,\n",
    "                 min_samples_split=min_samples_split,\n",
    "                 min_samples_leaf=min_samples_leaf)"
   ]
  },
  {
   "cell_type": "code",
   "execution_count": 89,
   "metadata": {},
   "outputs": [],
   "source": [
    "tree_clf = DecisionTreeClassifier()"
   ]
  },
  {
   "cell_type": "code",
   "execution_count": 90,
   "metadata": {},
   "outputs": [],
   "source": [
    "# tree_clf_gs = GridSearchCV(tree_clf, parameters)\n",
    "# tree_clf_gs.fit(data_train,y_train)"
   ]
  },
  {
   "cell_type": "code",
   "execution_count": 91,
   "metadata": {},
   "outputs": [],
   "source": [
    "# # print('Best Criterion:', tree_clf_gs.best_estimator_.get_params()['criterion'])\n",
    "# print('Best max_depth:', tree_clf_gs.best_estimator_.get_params()['max_depth'])\n",
    "# print('Best min_samples_split:', tree_clf_gs.best_estimator_.get_params()['min_samples_split'])\n",
    "# print('Best min_samples_leaf:', tree_clf_gs.best_estimator_.get_params()['min_samples_leaf'])\n",
    "# # print(); \n",
    "# # print(clf_GS.best_estimator_.get_params()['dec_tree'])"
   ]
  },
  {
   "cell_type": "code",
   "execution_count": 35,
   "metadata": {},
   "outputs": [
    {
     "data": {
      "text/plain": [
       "DecisionTreeClassifier(max_depth=10, max_features='auto', min_samples_split=12)"
      ]
     },
     "execution_count": 35,
     "metadata": {},
     "output_type": "execute_result"
    }
   ],
   "source": [
    "tree_clf = DecisionTreeClassifier(max_depth=10, max_features='auto', criterion='gini', min_samples_leaf=1,\n",
    "                               min_samples_split=12)\n",
    "tree_clf.fit(data_train,y_train)"
   ]
  },
  {
   "cell_type": "code",
   "execution_count": 36,
   "metadata": {},
   "outputs": [
    {
     "data": {
      "text/plain": [
       "array([ 5, 10, 10, ..., 10, 10, 10], dtype=int64)"
      ]
     },
     "execution_count": 36,
     "metadata": {},
     "output_type": "execute_result"
    }
   ],
   "source": [
    "y_pred = tree_clf.predict(data_test)\n",
    "y_pred"
   ]
  },
  {
   "cell_type": "code",
   "execution_count": 37,
   "metadata": {},
   "outputs": [
    {
     "data": {
      "text/plain": [
       "0.2986111111111111"
      ]
     },
     "execution_count": 37,
     "metadata": {},
     "output_type": "execute_result"
    }
   ],
   "source": [
    "accuracy_score(y_test, y_pred)"
   ]
  },
  {
   "cell_type": "code",
   "execution_count": 38,
   "metadata": {},
   "outputs": [],
   "source": [
    "y_pred_train = tree_clf.predict(data_train)"
   ]
  },
  {
   "cell_type": "code",
   "execution_count": 39,
   "metadata": {},
   "outputs": [
    {
     "data": {
      "text/plain": [
       "0.3105590062111801"
      ]
     },
     "execution_count": 39,
     "metadata": {},
     "output_type": "execute_result"
    }
   ],
   "source": [
    "accuracy_score(y_pred_train, y_train)"
   ]
  },
  {
   "cell_type": "code",
   "execution_count": 40,
   "metadata": {},
   "outputs": [
    {
     "data": {
      "text/plain": [
       "RandomForestClassifier(n_jobs=-1)"
      ]
     },
     "execution_count": 40,
     "metadata": {},
     "output_type": "execute_result"
    }
   ],
   "source": [
    "#######################################################################################\n",
    "rnd_clf=RandomForestClassifier(n_jobs=-1) # n_jobs=-1 uses all cores of the CPU\n",
    "rnd_clf.fit(data_train, y_train)\n"
   ]
  },
  {
   "cell_type": "code",
   "execution_count": 41,
   "metadata": {},
   "outputs": [
    {
     "data": {
      "text/plain": [
       "array([ 5,  3, 10, ...,  0, 10,  0], dtype=int64)"
      ]
     },
     "execution_count": 41,
     "metadata": {},
     "output_type": "execute_result"
    }
   ],
   "source": [
    "y_pred = rnd_clf.predict(data_test)\n",
    "y_pred"
   ]
  },
  {
   "cell_type": "code",
   "execution_count": 42,
   "metadata": {},
   "outputs": [
    {
     "data": {
      "text/plain": [
       "0.5199074074074074"
      ]
     },
     "execution_count": 42,
     "metadata": {},
     "output_type": "execute_result"
    }
   ],
   "source": [
    "accuracy_score(y_test, y_pred)"
   ]
  },
  {
   "cell_type": "code",
   "execution_count": 43,
   "metadata": {},
   "outputs": [],
   "source": [
    "y_pred_train = rnd_clf.predict(data_train)"
   ]
  },
  {
   "cell_type": "code",
   "execution_count": 44,
   "metadata": {},
   "outputs": [
    {
     "data": {
      "text/plain": [
       "1.0"
      ]
     },
     "execution_count": 44,
     "metadata": {},
     "output_type": "execute_result"
    }
   ],
   "source": [
    "accuracy_score(y_pred_train, y_train)"
   ]
  },
  {
   "cell_type": "code",
   "execution_count": 49,
   "metadata": {},
   "outputs": [],
   "source": [
    "########################################################################################\n",
    "from sklearn.svm import SVC\n",
    "svm_clf = SVC()\n"
   ]
  },
  {
   "cell_type": "code",
   "execution_count": 77,
   "metadata": {},
   "outputs": [
    {
     "data": {
      "text/plain": [
       "SVC()"
      ]
     },
     "execution_count": 77,
     "metadata": {},
     "output_type": "execute_result"
    }
   ],
   "source": [
    "svm_clf.fit(data_train, y_train)"
   ]
  },
  {
   "cell_type": "code",
   "execution_count": 78,
   "metadata": {},
   "outputs": [],
   "source": [
    "y_pred = svm_clf.predict(data_test)"
   ]
  },
  {
   "cell_type": "code",
   "execution_count": 79,
   "metadata": {},
   "outputs": [
    {
     "data": {
      "text/plain": [
       "0.5310185185185186"
      ]
     },
     "execution_count": 79,
     "metadata": {},
     "output_type": "execute_result"
    }
   ],
   "source": [
    "accuracy_score(y_test, y_pred)"
   ]
  },
  {
   "cell_type": "code",
   "execution_count": null,
   "metadata": {},
   "outputs": [],
   "source": [
    "y_pred_train = svm_clf.predict(data_train)"
   ]
  },
  {
   "cell_type": "code",
   "execution_count": null,
   "metadata": {},
   "outputs": [],
   "source": [
    "accuracy_score(y_pred_train, y_train)"
   ]
  },
  {
   "cell_type": "code",
   "execution_count": null,
   "metadata": {},
   "outputs": [],
   "source": []
  }
 ],
 "metadata": {
  "colab": {
   "provenance": []
  },
  "kernelspec": {
   "display_name": "Python 3",
   "language": "python",
   "name": "python3"
  },
  "language_info": {
   "codemirror_mode": {
    "name": "ipython",
    "version": 3
   },
   "file_extension": ".py",
   "mimetype": "text/x-python",
   "name": "python",
   "nbconvert_exporter": "python",
   "pygments_lexer": "ipython3",
   "version": "3.8.8"
  }
 },
 "nbformat": 4,
 "nbformat_minor": 1
}
